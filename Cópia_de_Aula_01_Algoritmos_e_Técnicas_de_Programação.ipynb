{
  "nbformat": 4,
  "nbformat_minor": 0,
  "metadata": {
    "colab": {
      "name": "Cópia de Aula 01 - Algoritmos e Técnicas de Programação.ipynb",
      "provenance": [],
      "collapsed_sections": [],
      "toc_visible": true,
      "include_colab_link": true
    },
    "kernelspec": {
      "name": "python3",
      "display_name": "Python 3"
    }
  },
  "cells": [
    {
      "cell_type": "markdown",
      "metadata": {
        "id": "view-in-github",
        "colab_type": "text"
      },
      "source": [
        "<a href=\"https://colab.research.google.com/github/DellGarcia/AndroidFragments/blob/master/C%C3%B3pia_de_Aula_01_Algoritmos_e_T%C3%A9cnicas_de_Programa%C3%A7%C3%A3o.ipynb\" target=\"_parent\"><img src=\"https://colab.research.google.com/assets/colab-badge.svg\" alt=\"Open In Colab\"/></a>"
      ]
    },
    {
      "cell_type": "markdown",
      "metadata": {
        "id": "BE0I7zuyStH_"
      },
      "source": [
        "# **Python: por que aprender?**\n",
        "\n",
        "* É fácil\n",
        "* Tem uma grande comunidade\n",
        "* Excelentes bibliotecas (exemplos: pandas, numpy, mathplotlib, sklearn, ....)\n",
        "* A mais usada em ciência de dados\n",
        "* Demandada no mercado (No cargo de Desenvolvedor Python se inicia ganhando R\\$ 2.166,00 de salário e pode vir a ganhar até R\\$ 7.009,00. A média salarial para Desenvolvedor Python no Brasil é de R\\$ 4.130,00. - site: https://www.vagas.com.br/cargo/desenvolvedor-python)\n"
      ]
    },
    {
      "cell_type": "markdown",
      "metadata": {
        "id": "LLJ4Rzq0qHAA"
      },
      "source": [
        "# **Conceitos iniciais:**\n",
        "\n",
        "**Variáveis:**\n",
        "São \"caixinhas\" na memória do computador que servem para guardar dados.\n",
        "\n",
        "**Tipos de dados:**\n",
        "Estes dados podem ser de vários tipos:\n",
        "\n",
        "* Números **inteiros** (símbolo: 'int'); exemplos: 2, 3, 4, 9, ... sua idade\n",
        "* Números **reais** (símbolo: 'float'); exemplos: $\\pi$=3.14159..., 2.54, seu peso, sua altura, ...\n",
        "* **Texto** (símbolo: 'str', abreviação de *string*); exemplos: \"Oi!\", 'Assim também é texto', \"Algoritmos e Programação\", ..\n",
        "* .... e outros que veremos adiante\n",
        "\n",
        "\n"
      ]
    },
    {
      "cell_type": "code",
      "metadata": {
        "colab": {
          "base_uri": "https://localhost:8080/"
        },
        "id": "-7C-rDtDSqJp",
        "outputId": "a2d6a71b-c337-4b11-cab9-1cdba8a5fe4f"
      },
      "source": [
        "a = 2\n",
        "print(a) # estou mostrando o valor da variável 'a'\n",
        "print(type(a))  # descubro qual é o tipo de dado da variável 'a'"
      ],
      "execution_count": null,
      "outputs": [
        {
          "output_type": "stream",
          "text": [
            "2\n",
            "<class 'int'>\n"
          ],
          "name": "stdout"
        }
      ]
    },
    {
      "cell_type": "code",
      "metadata": {
        "colab": {
          "base_uri": "https://localhost:8080/"
        },
        "id": "2siU24XQz6YV",
        "outputId": "4b95748f-14ee-42cd-8173-1ad819b5d260"
      },
      "source": [
        "b = 3.1415\n",
        "print(b)\n",
        "print(type(b))  # descubro qual é o tipo de dado da variável 'b'\n",
        "\n",
        "c = \"Alô, mundo!!\"\n",
        "print(c)\n",
        "print(type(c))  # descubro qual é o tipo de dado da variável 'c'"
      ],
      "execution_count": null,
      "outputs": [
        {
          "output_type": "stream",
          "text": [
            "3.1415\n",
            "<class 'float'>\n",
            "Alô, mundo!!\n",
            "<class 'str'>\n"
          ],
          "name": "stdout"
        }
      ]
    },
    {
      "cell_type": "markdown",
      "metadata": {
        "id": "q08whJ4TqGbU"
      },
      "source": [
        "**Descobriu o que faz o operador \"=\"?**\n",
        "\n",
        "Ele é conhecido como **atribuição**; ele faz com que um valor à direita seja copiado para uma variável à esquerda.\n",
        "O valor de uma variável pode ser alterado várias vezes durante um programa:"
      ]
    },
    {
      "cell_type": "code",
      "metadata": {
        "colab": {
          "base_uri": "https://localhost:8080/"
        },
        "id": "qa4HMxbVl4vy",
        "outputId": "25fb06b0-fc6c-44cb-9369-6fd9c86b9d3e"
      },
      "source": [
        "print(a)\n",
        "a = 6\n",
        "print(a)"
      ],
      "execution_count": null,
      "outputs": [
        {
          "output_type": "stream",
          "text": [
            "2\n",
            "6\n"
          ],
          "name": "stdout"
        }
      ]
    },
    {
      "cell_type": "markdown",
      "metadata": {
        "id": "SWkxae_mLZbo"
      },
      "source": [
        "**Operações aritméticas:**\n",
        "\n",
        "Do lado direito da atribuição podemos fazer operações aritméticas:\n",
        "* \\+ (soma),\n",
        "* \\- (subtração),\n",
        "* \\* (multiplicação),\n",
        "* \\/ (divisão real),\n",
        "* \\// (divisão inteira),\n",
        "* \\% (resto da divisão inteira ou módulo)\n",
        "* \\** (exponenciação)\n",
        "\n",
        "\n",
        "**Exemplos:**"
      ]
    },
    {
      "cell_type": "code",
      "metadata": {
        "colab": {
          "base_uri": "https://localhost:8080/"
        },
        "id": "UVCwZV7uLYk8",
        "outputId": "cf9f8d91-3733-440f-c230-05941f36d778"
      },
      "source": [
        "x = 3\n",
        "y = 2\n",
        "z = x + y\n",
        "print(z)"
      ],
      "execution_count": null,
      "outputs": [
        {
          "output_type": "stream",
          "text": [
            "5\n"
          ],
          "name": "stdout"
        }
      ]
    },
    {
      "cell_type": "code",
      "metadata": {
        "colab": {
          "base_uri": "https://localhost:8080/"
        },
        "id": "olZExDdsZniO",
        "outputId": "f3607e94-e1e2-4f7f-c329-f267cd853850"
      },
      "source": [
        "z = x - y\n",
        "print(z)"
      ],
      "execution_count": null,
      "outputs": [
        {
          "output_type": "stream",
          "text": [
            "1\n"
          ],
          "name": "stdout"
        }
      ]
    },
    {
      "cell_type": "code",
      "metadata": {
        "colab": {
          "base_uri": "https://localhost:8080/"
        },
        "id": "_guqr9hLZqYM",
        "outputId": "3a5ed7d6-aa85-4e02-ad4e-997749b41bf4"
      },
      "source": [
        "z = x * y\n",
        "print(z)"
      ],
      "execution_count": null,
      "outputs": [
        {
          "output_type": "stream",
          "text": [
            "6\n"
          ],
          "name": "stdout"
        }
      ]
    },
    {
      "cell_type": "code",
      "metadata": {
        "colab": {
          "base_uri": "https://localhost:8080/"
        },
        "id": "mh3bEUjlZvPU",
        "outputId": "adf6c2fc-7973-4549-d94c-ae29f0e3efc4"
      },
      "source": [
        "z = x / y\n",
        "print(z)"
      ],
      "execution_count": null,
      "outputs": [
        {
          "output_type": "stream",
          "text": [
            "1.5\n"
          ],
          "name": "stdout"
        }
      ]
    },
    {
      "cell_type": "code",
      "metadata": {
        "colab": {
          "base_uri": "https://localhost:8080/"
        },
        "id": "f60ZeJDdakcz",
        "outputId": "5b0820be-bb92-4828-fb54-8463a6b3f796"
      },
      "source": [
        "z = x // y\n",
        "print(z)"
      ],
      "execution_count": null,
      "outputs": [
        {
          "output_type": "stream",
          "text": [
            "1\n"
          ],
          "name": "stdout"
        }
      ]
    },
    {
      "cell_type": "markdown",
      "metadata": {
        "id": "Sy_lBJBKgm3n"
      },
      "source": [
        "*Entendeu o que aconteceu aqui em cima? Consegue explicar?*"
      ]
    },
    {
      "cell_type": "code",
      "metadata": {
        "colab": {
          "base_uri": "https://localhost:8080/"
        },
        "id": "1cqFo6ZkhmFC",
        "outputId": "c22353f2-28dc-46ed-e0c9-e99ae4dcb16c"
      },
      "source": [
        "x = 11\n",
        "y = 3\n",
        "z = x % y\n",
        "print(z)"
      ],
      "execution_count": null,
      "outputs": [
        {
          "output_type": "stream",
          "text": [
            "2\n"
          ],
          "name": "stdout"
        }
      ]
    },
    {
      "cell_type": "markdown",
      "metadata": {
        "id": "BgDSjZWwh03u"
      },
      "source": [
        "*E aqui em cima? Consegue explicar?*"
      ]
    },
    {
      "cell_type": "code",
      "metadata": {
        "colab": {
          "base_uri": "https://localhost:8080/"
        },
        "id": "pId9_Rbyamcs",
        "outputId": "82cca533-6daf-4fe9-fd92-e57abd04acbf"
      },
      "source": [
        "x = 3\n",
        "y = 2\n",
        "z = x ** y\n",
        "print(z)"
      ],
      "execution_count": null,
      "outputs": [
        {
          "output_type": "stream",
          "text": [
            "9\n"
          ],
          "name": "stdout"
        }
      ]
    },
    {
      "cell_type": "markdown",
      "metadata": {
        "id": "KMXHZhHibBjT"
      },
      "source": [
        "**Entrada e saída de dados:**\n",
        "\n",
        "Vocês já sabem como mostrar algo na tela do computador, não é?"
      ]
    },
    {
      "cell_type": "code",
      "metadata": {
        "colab": {
          "base_uri": "https://localhost:8080/"
        },
        "id": "r-29dnxdj_Hz",
        "outputId": "2bcecd4d-5fb3-403a-aa19-0778fb81756f"
      },
      "source": [
        "print(\"Alô mundo!\")\n",
        "print('O valor de x é', x, 'e o de y é', y)"
      ],
      "execution_count": null,
      "outputs": [
        {
          "output_type": "stream",
          "text": [
            "Alô mundo!\n",
            "O valor de x é 3 e o de y é 2\n"
          ],
          "name": "stdout"
        }
      ]
    },
    {
      "cell_type": "markdown",
      "metadata": {
        "id": "FdjTrMu4yCqk"
      },
      "source": [
        "Agora veja como podemos ler algo digitado pelo teclado:"
      ]
    },
    {
      "cell_type": "code",
      "metadata": {
        "colab": {
          "base_uri": "https://localhost:8080/"
        },
        "id": "I-ToifvGyWRv",
        "outputId": "093fb4d6-2460-4c90-a891-e4571d3e9f99"
      },
      "source": [
        "nome = input('Qual é o seu nome? ')\n",
        "print('O seu nome é', nome)"
      ],
      "execution_count": null,
      "outputs": [
        {
          "output_type": "stream",
          "text": [
            "Qual é o seu nome? Carlos Menezes\n",
            "O seu nome é Carlos Menezes\n"
          ],
          "name": "stdout"
        }
      ]
    },
    {
      "cell_type": "markdown",
      "metadata": {
        "id": "zrcsS45kyx6n"
      },
      "source": [
        "*Repare* que o *input* somente devolve um texto ('str' é uma abreviação de *string*):"
      ]
    },
    {
      "cell_type": "code",
      "metadata": {
        "colab": {
          "base_uri": "https://localhost:8080/"
        },
        "id": "Y6Jrm90RzDic",
        "outputId": "3a22461e-a3d8-4aae-d987-08d46d74e370"
      },
      "source": [
        "print(type(nome))"
      ],
      "execution_count": null,
      "outputs": [
        {
          "output_type": "stream",
          "text": [
            "<class 'str'>\n"
          ],
          "name": "stdout"
        }
      ]
    },
    {
      "cell_type": "markdown",
      "metadata": {
        "id": "tnhI608wzPem"
      },
      "source": [
        "E como fazemos para ler um número? Uso **int()** ou **float()** para converter um texto em número."
      ]
    },
    {
      "cell_type": "code",
      "metadata": {
        "colab": {
          "base_uri": "https://localhost:8080/"
        },
        "id": "a0Q4JpDvOg9V",
        "outputId": "f641c45b-1356-4dc6-f00d-cb02af839ac6"
      },
      "source": [
        "texto = \"123\"\n",
        "print(type(texto))\n",
        "numero = int(texto)  # converto o texto \"123\" para o número 123\n",
        "print(type(numero))"
      ],
      "execution_count": null,
      "outputs": [
        {
          "output_type": "stream",
          "text": [
            "<class 'str'>\n",
            "<class 'int'>\n"
          ],
          "name": "stdout"
        }
      ]
    },
    {
      "cell_type": "code",
      "metadata": {
        "id": "25YvQqTkzjsi"
      },
      "source": [
        "idade = int(input('Qual é sua idade? '))  # converto a leitura (texto) em número inteiro\n",
        "altura = float(input('Qual é sua altura? '))  # converto a leitura (texto) em número real\n",
        "peso = float(input('Qual é seu peso? '))  # converto a leitura (texto) em número real\n",
        "print(nome, ', você tem', idade, 'anos de idade,', altura, 'm de altura e', peso, 'kg de peso.')"
      ],
      "execution_count": null,
      "outputs": []
    },
    {
      "cell_type": "markdown",
      "metadata": {
        "id": "BnCc_scS1QWy"
      },
      "source": [
        "---\n",
        "# **Exercícios:**\n",
        "\n",
        "**Agora é hora de praticar:**"
      ]
    },
    {
      "cell_type": "markdown",
      "metadata": {
        "id": "45SXR6861sJe"
      },
      "source": [
        "1) Faça um programa que converta dólares em reais.\n"
      ]
    },
    {
      "cell_type": "code",
      "metadata": {
        "id": "An_JN0A1DsPP",
        "colab": {
          "base_uri": "https://localhost:8080/"
        },
        "outputId": "64220910-d1c1-42fc-d9e8-914cd9004cb2"
      },
      "source": [
        "dolares = float(input(\"Informe um valor em dolares: \"))\r\n",
        "reais = dolares * 5.45\r\n",
        "print(f\"US$ {dolares} equivale a R$ {reais}\")"
      ],
      "execution_count": null,
      "outputs": [
        {
          "output_type": "stream",
          "text": [
            "Informe um valor em dolares: 1\n",
            "US$ 1.0 equivale a R$ 5.45\n"
          ],
          "name": "stdout"
        }
      ]
    },
    {
      "cell_type": "markdown",
      "metadata": {
        "id": "vmRGQs3IDtQA"
      },
      "source": [
        "2) Faça um programa que converta reais em dólares.\n"
      ]
    },
    {
      "cell_type": "code",
      "metadata": {
        "id": "7DmfMzMjDy0g",
        "colab": {
          "base_uri": "https://localhost:8080/"
        },
        "outputId": "0b1260bc-3dcf-44b4-805d-2f9c578e89cc"
      },
      "source": [
        "reais = float(input(\"Informe um valor em reais: \"))\r\n",
        "dolares = reais / 5.45\r\n",
        "print(f\"R$ {reais} equivale a US$ {dolares}\")"
      ],
      "execution_count": null,
      "outputs": [
        {
          "output_type": "stream",
          "text": [
            "Informe um valor em reais: 5.45\n",
            "R$ 5.45 equivale a US$ 1.0\n"
          ],
          "name": "stdout"
        }
      ]
    },
    {
      "cell_type": "markdown",
      "metadata": {
        "id": "Cf5s1lamDzuu"
      },
      "source": [
        "3) Faça um programa que calcule a área de um retângulo e seu perímetro com base em seus dois lados.\n"
      ]
    },
    {
      "cell_type": "code",
      "metadata": {
        "id": "nnXcWpksD8ZT",
        "colab": {
          "base_uri": "https://localhost:8080/"
        },
        "outputId": "bee7d2c9-ad59-4aa3-eaee-833aaf067e7f"
      },
      "source": [
        "base = int(input(\"Informe o valor da base do retangulo: \"))\r\n",
        "altura = int(input(\"Informe o valor da altura do retangulo: \"))\r\n",
        "\r\n",
        "area = base * altura\r\n",
        "perimetro = base * 2 + altura * 2\r\n",
        "\r\n",
        "print(f'A area do retangulo é de {area} e seu perimetro é {perimetro}')"
      ],
      "execution_count": null,
      "outputs": [
        {
          "output_type": "stream",
          "text": [
            "Informe o valor da base do retangulo: 2\n",
            "Informe o valor da altura do retangulo: 2\n",
            "A area do retangulo é de 4 e seu perimetro é 8\n"
          ],
          "name": "stdout"
        }
      ]
    },
    {
      "cell_type": "markdown",
      "metadata": {
        "id": "lBDooXJmDzlK"
      },
      "source": [
        "4) Faça um programa que converta a temperatura de graus Celsius para graus Fahrenheit.\n",
        "$$\n",
        "F = \\frac{9}{5}*C + 32\n",
        "$$"
      ]
    },
    {
      "cell_type": "code",
      "metadata": {
        "id": "ldrb3m2NECP6",
        "colab": {
          "base_uri": "https://localhost:8080/"
        },
        "outputId": "10807d38-537d-4cd2-a36b-80f60e6533ca"
      },
      "source": [
        "celcius = int(input('Informe uma temperatura em celcius: '))\r\n",
        "fahrenheit = 9 / 5 * celcius + 32\r\n",
        "print(f'{celcius}º em celcius equilvale a {fahrenheit}º em fahrenheit')"
      ],
      "execution_count": null,
      "outputs": [
        {
          "output_type": "stream",
          "text": [
            "Informe uma temperatura em graus celcius: 23\n",
            "23º em celcius equilvale a 73.4º em fahrenheit\n"
          ],
          "name": "stdout"
        }
      ]
    },
    {
      "cell_type": "markdown",
      "metadata": {
        "id": "znSMQi3bDzeX"
      },
      "source": [
        "5) Faça um programa que converta a temperatura de graus Fahrenheit para graus Celsius."
      ]
    },
    {
      "cell_type": "code",
      "metadata": {
        "id": "m545MaxjEGQO",
        "colab": {
          "base_uri": "https://localhost:8080/"
        },
        "outputId": "7841f0ed-f11c-4b89-9856-c3022c8450f8"
      },
      "source": [
        "fahrenheit = float(input('Informe uma temperatura em fahrenheit: '))\r\n",
        "celcius = (fahrenheit - 32)  / (9 / 5)\r\n",
        "print(f'{fahrenheit}º em fahrenheit equilvale a {celcius}º em celcius')"
      ],
      "execution_count": null,
      "outputs": [
        {
          "output_type": "stream",
          "text": [
            "Informe uma temperatura em fahrenheit: 73.4\n",
            "73.4º em fahrenheit equilvale a 23.000000000000004º em celcius\n"
          ],
          "name": "stdout"
        }
      ]
    },
    {
      "cell_type": "markdown",
      "metadata": {
        "id": "JtzwNsK-EHQO"
      },
      "source": [
        "6) Faça um programa que calcule o Índice de Massa Corporal (IMC) com base no peso e altura do indivíduo:\n",
        "$$\n",
        "IMC = \\frac{peso}{altura^2} \\\\\n",
        "$$\n"
      ]
    },
    {
      "cell_type": "code",
      "metadata": {
        "id": "WL-Bi7GkELv2",
        "colab": {
          "base_uri": "https://localhost:8080/"
        },
        "outputId": "1b51778c-3030-4ebe-b8dc-e2d4852ea335"
      },
      "source": [
        "peso = float(input('Informe seu peso: '))\r\n",
        "altura = float(input('Informe sua altura: '))\r\n",
        "\r\n",
        "imc = peso / altura ** 2\r\n",
        "print(f'Seu IMC é de {imc}')"
      ],
      "execution_count": null,
      "outputs": [
        {
          "output_type": "stream",
          "text": [
            "Informe seu peso: 55\n",
            "Informe sua altura: 1.73\n",
            "Seu IMC é de 18.376825152861773\n"
          ],
          "name": "stdout"
        }
      ]
    },
    {
      "cell_type": "markdown",
      "metadata": {
        "id": "mrjc84whEMYE"
      },
      "source": [
        "7) Calcular a hipotenusa de um triângulo retângulo com base em seus catetos:\n",
        "$$\n",
        "hipotenusa = \\sqrt { cateto_1^2+ cateto_2^2 }\n",
        "$$\n"
      ]
    },
    {
      "cell_type": "code",
      "metadata": {
        "id": "hO7ljOVnERIa",
        "colab": {
          "base_uri": "https://localhost:8080/"
        },
        "outputId": "bad2c1b1-3ec8-4265-df68-0bfc537b0c78"
      },
      "source": [
        "catA = int(input(\"Informe o valor do cateto A: \"))\r\n",
        "catB = int(input(\"Informe o valor do cateto B: \"))\r\n",
        "\r\n",
        "hip = (catA ** 2 + catB ** 2) ** 0.5\r\n",
        "print(f'O valor da hipotenusa é {hip}')"
      ],
      "execution_count": null,
      "outputs": [
        {
          "output_type": "stream",
          "text": [
            "Informe o valor do cateto A: 3\n",
            "Informe o valor do cateto B: 4\n",
            "O valor da hipotenusa é 5.0\n"
          ],
          "name": "stdout"
        }
      ]
    },
    {
      "cell_type": "markdown",
      "metadata": {
        "id": "byf7YKQ0ESM_"
      },
      "source": [
        "8) Faça um programa que calcule a área de um círculo e sua circunferência com base no raio.\n",
        "$$\n",
        "circunferencia = 2 * \\pi * raio \\\\\n",
        "area = \\pi * raio ^ 2\n",
        "$$"
      ]
    },
    {
      "cell_type": "code",
      "metadata": {
        "id": "KsgBNkH_EXa6",
        "colab": {
          "base_uri": "https://localhost:8080/"
        },
        "outputId": "e135c394-2ad6-44ef-f317-475325e43644"
      },
      "source": [
        "raio = int(input('Informe o raio: '))\r\n",
        "\r\n",
        "from math import pi\r\n",
        "\r\n",
        "circun = 2 * pi * raio\r\n",
        "area = pi * raio ** 2\r\n",
        "\r\n",
        "print(f'O circulo tem uma área de {area}, com uma circunferencia de {circun}')"
      ],
      "execution_count": null,
      "outputs": [
        {
          "output_type": "stream",
          "text": [
            "Informe o raio: 2\n",
            "O circulo tem uma área de 12, com uma circunferencia de 12.566370614359172\n"
          ],
          "name": "stdout"
        }
      ]
    },
    {
      "cell_type": "markdown",
      "metadata": {
        "id": "WmOfl8mfEYNR"
      },
      "source": [
        "9) Faça um programa que calcule a área de um triângulo com base em sua base e sua altura.\n",
        "$$\n",
        "area = \\frac{base * altura}{2} \\\\\n",
        "$$"
      ]
    },
    {
      "cell_type": "code",
      "metadata": {
        "id": "NhEgImGYEfiu",
        "colab": {
          "base_uri": "https://localhost:8080/"
        },
        "outputId": "89a89a40-9278-4904-9087-74e6e5f09709"
      },
      "source": [
        "base = int(input(\"Informe o valor da base do triangulo: \"))\r\n",
        "altura = int(input(\"Informe o valor da altura do triangulo: \"))\r\n",
        "\r\n",
        "area = base * altura / 2\r\n",
        "print(f'A area do triangulo é de {area}')"
      ],
      "execution_count": null,
      "outputs": [
        {
          "output_type": "stream",
          "text": [
            "Informe o valor da base do triangulo: 2\n",
            "Informe o valor da altura do triangulo: 2\n",
            "A area do triangulo é de 2.0\n"
          ],
          "name": "stdout"
        }
      ]
    },
    {
      "cell_type": "markdown",
      "metadata": {
        "id": "li5TeKxQEgql"
      },
      "source": [
        "10) Faça um programa que calcule a área de um triângulo com base em seus três lados (fórmula de Herão ou Hierão). Sendo a, b e c os lados:\n",
        "$$\n",
        "p = \\frac{a+b+c}{2} \\\\\n",
        "area = \\sqrt{ p*(p-a)*(p-b)*(p-c) }\n",
        "$$"
      ]
    },
    {
      "cell_type": "code",
      "metadata": {
        "id": "P5bsjF7aEitA",
        "colab": {
          "base_uri": "https://localhost:8080/"
        },
        "outputId": "af1947e0-4c16-4d69-f2e2-1428ee3a29d5"
      },
      "source": [
        "lado1 = int(input('Informe o primeiro lado do triângulo: '))\r\n",
        "lado2 = int(input('Informe o segundo lado do triângulo: '))\r\n",
        "lado3 = int(input('Informe o terceiro lado do triangulo: '))\r\n",
        "\r\n",
        "from math import sqrt\r\n",
        "\r\n",
        "p = (lado1 + lado2 + lado3) / 2\r\n",
        "area = sqrt(p * (p -lado1) * (p - lado2) * (p- lado3))\r\n",
        "\r\n",
        "print(f'A area do triangulo é de {area}')"
      ],
      "execution_count": null,
      "outputs": [
        {
          "output_type": "stream",
          "text": [
            "Informe o primeiro lado do triângulo: 3\n",
            "Informe o segundo lado do triângulo: 4\n",
            "Informe o terceiro lado do triangulo5\n",
            "A area do triangulo é de 6.0\n"
          ],
          "name": "stdout"
        }
      ]
    }
  ]
}